{
 "cells": [
  {
   "cell_type": "markdown",
   "metadata": {},
   "source": [
    "# Final exam"
   ]
  },
  {
   "cell_type": "markdown",
   "metadata": {},
   "source": [
    "## MCM Program (25 points) "
   ]
  },
  {
   "cell_type": "markdown",
   "metadata": {},
   "source": [
    "Write a program in the language of your choice that implements the matrixchain\n",
    "multipication algorithm described in chapter 15 and explained in class. The input will be a series of\n",
    "lines, each line containing two integers representing the dimensions of an array. The output should be the\n",
    "optimal number of multiplications achieved by an optimal parenthesization of the list of matrices."
   ]
  },
  {
   "cell_type": "code",
   "execution_count": 31,
   "metadata": {
    "collapsed": false
   },
   "outputs": [],
   "source": [
    "import numpy as np\n",
    "values=[5,10,3,12,5,50,6]\n",
    "def matrixMS(v):\n",
    "    \"\"\"\n",
    "    Given a sequence of dimensions returns back m and s table\n",
    "    \"\"\"\n",
    "    #fill in nxn matrix with 0 as value\n",
    "    m=np.zeros((len(v)-1, len(v)-1))\n",
    "    s=np.zeros((len(v)-1, len(v)-1))\n",
    "    for l in xrange(len(v)):\n",
    "        for i in xrange(len(v)-l):\n",
    "            j= i+l-1\n",
    "            for k in xrange(i,j):\n",
    "                current=m[i,k] + m[k+1,j]+ v[i]*v[k+1]*v[j+1]\n",
    "                if k==i:\n",
    "                    m[i,j]=current\n",
    "                    s[i,j]=k+1\n",
    "                elif m[i,j]>current:\n",
    "                    m[i,j] =current\n",
    "                    s[i,j]=k+1\n",
    "    return m,s\n",
    "def findSequence(inputList,output):\n",
    "    \"\"\"\n",
    "    Given list of matrixs dimensions returns a sequence of dimensions\n",
    "    \"\"\"\n",
    "    \n",
    "    if len(output)==0:\n",
    "        output=inputList[0]\n",
    "        inputList.remove(output)\n",
    "    currentLength=len(output)\n",
    "    for line in inputList:\n",
    "        if output[-1]==line[0]:\n",
    "            output.append(line[1])\n",
    "            inputList.remove(line)\n",
    "            break\n",
    "        elif output[0]==line[1]:\n",
    "\n",
    "            output.insert(0,line[0])\n",
    "            inputList.remove(line)\n",
    "            break\n",
    "        elif line==inputList[-1] and currentLength==len(output):\n",
    "            raise Exception(\"Incompatible dimensions!\")\n",
    "    \n",
    "    if len(inputList)>0:\n",
    "        findSequence(inputList,output)\n",
    "    return output\n",
    "            \n",
    "    \n",
    "    \n",
    "def MCM(Inputs):\n",
    "    \"\"\"\n",
    "    Given a list of matrixs dimensions returns the opitmal number of multiplications\n",
    "    \n",
    "    \"\"\"\n",
    "    sequenceValues=findSequence(Inputs,[])\n",
    "    print \"sequence of dimensions: \",sequenceValues\n",
    "    m,s=matrixMS(sequenceValues)\n",
    "    print \"m:\",m\n",
    "    print \"s:\",s\n",
    "    print \"opitmal number of multiplications: \", m[0][-1]\n",
    "    return m[0][-1]"
   ]
  },
  {
   "cell_type": "code",
   "execution_count": 32,
   "metadata": {
    "collapsed": false
   },
   "outputs": [
    {
     "name": "stdout",
     "output_type": "stream",
     "text": [
      "Input values:  [[30, 35], [35, 15], [15, 5], [5, 10], [10, 20], [20, 25]]\n",
      "sequence of dimensions:  [30, 35, 15, 5, 10, 20, 25]\n",
      "m: [[     0.  15750.   7875.   9375.  11875.  15125.]\n",
      " [     0.      0.   2625.   4375.   7125.  10500.]\n",
      " [     0.      0.      0.    750.   2500.   5375.]\n",
      " [     0.      0.      0.      0.   1000.   3500.]\n",
      " [     0.      0.      0.      0.      0.   5000.]\n",
      " [     0.      0.      0.      0.      0.      0.]]\n",
      "s: [[ 0.  1.  1.  3.  3.  3.]\n",
      " [ 0.  0.  2.  3.  3.  3.]\n",
      " [ 0.  0.  0.  3.  3.  3.]\n",
      " [ 0.  0.  0.  0.  4.  5.]\n",
      " [ 0.  0.  0.  0.  0.  5.]\n",
      " [ 0.  0.  0.  0.  0.  0.]]\n",
      "opitmal number of multiplications:  15125.0\n",
      "15125.0\n"
     ]
    }
   ],
   "source": [
    "#using the file from the professor\n",
    "f = open('MCMinput.txt', 'r')\n",
    "values=[map(int,line.replace(\"\\n\",\"\").split()) for line in f]\n",
    "f.closed\n",
    "print \"Input values: \",values\n",
    "print MCM(values)"
   ]
  },
  {
   "cell_type": "markdown",
   "metadata": {},
   "source": [
    "## Bellman‐Ford Program (25 points) "
   ]
  },
  {
   "cell_type": "markdown",
   "metadata": {},
   "source": [
    "Write a program in the language of your choice that implements the\n",
    "Bellman‐Ford algorithm. In the input, vertices will be numbered from 0. The first line of the input file will\n",
    "contain the number of vertices in total, the second line will contain the number of the start vertex, and the\n",
    "remaining lines will contain the adjacency matrix. Some of the weights might be negative. The output\n",
    "should be a list of vertices and their shortest distances from the source vertex."
   ]
  },
  {
   "cell_type": "code",
   "execution_count": 117,
   "metadata": {
    "collapsed": false
   },
   "outputs": [
    {
     "name": "stdout",
     "output_type": "stream",
     "text": [
      "[[10], [0], [0, 8, 0, 5, 7, 0, 0, 0, 0, 0], [0, 0, -7, 0, 1, 0, 0, 0, 0, 0], [0, 10, 0, 0, 0, 7, 0, 0, 0, -2], [2, 0, 0, 0, 0, 0, 0, 6, 0, 0], [6, 0, 0, 9, 0, 0, 0, 0, 0, 0], [0, 2, 0, 0, 0, 0, 0, 0, 6, 0], [0, 0, 9, 0, 0, 0, 0, 0, 0, 0], [0, 0, 0, 0, -3, 0, 0, 0, 8, 0], [0, 0, 0, 0, 9, 0, 0, 0, 0, 0], [0, 0, 4, 0, 0, 0, 3, 0, 8, 0]]\n"
     ]
    }
   ],
   "source": [
    "f = open('BellmanFordinput.txt', 'r')\n",
    "inputValues=[map(int,line.replace(\"\\n\",\"\").split()) for line in f]\n",
    "f.closed\n",
    "print inputValues"
   ]
  },
  {
   "cell_type": "code",
   "execution_count": 118,
   "metadata": {
    "collapsed": false
   },
   "outputs": [],
   "source": [
    "source=inputValues[1][0]\n",
    "graph=inputValues[2:]"
   ]
  },
  {
   "cell_type": "code",
   "execution_count": 123,
   "metadata": {
    "collapsed": false
   },
   "outputs": [],
   "source": [
    "def relax(vertex,neighbor,graph,d,p):\n",
    "    \n",
    "    if d[neighbor]>d[vertex] + graph[vertex][neighbor] and graph[vertex][neighbor]!=0:\n",
    "        d[neighbor] = d[vertex] + graph[vertex][neighbor]\n",
    "        p[neighbor]=vertex\n",
    "        #print vertex,neighbor,p[neighbor]\n",
    "        \n",
    "def Bellman_Ford(graph,source):\n",
    "    ##Initalize\n",
    "    d,p=[],[] ##distance, predecessor\n",
    "    for vertex in graph:\n",
    "        d.append(float(\"Inf\"))\n",
    "        p.append(None)\n",
    "    d[source]=0\n",
    "    \n",
    "    #find shortest path for each edge\n",
    "    for i in xrange(len(graph)):\n",
    "        for vertex in xrange(len(graph)):\n",
    "            for neighbor in xrange(len(graph[vertex])):\n",
    "                relax(vertex,neighbor,graph,d,p)\n",
    "    \n",
    "    ##check for negative-weight cycles if found failure\n",
    "    for vertex in xrange(len(graph)):\n",
    "        for neighbor in xrange(len(graph[vertex])):\n",
    "            if d[neighbor] > d[vertex]+graph[vertex][neighbor] and graph[vertex][neighbor]!=0:\n",
    "                raise Exception(\"negative cycle detected\")\n",
    "            \n",
    "    print \"The list of vertices and their shortest distances from the source vertex.\"\n",
    "    print \"Vertex Shortest Distance from source\"\n",
    "    for vertex in xrange(len(d)):\n",
    "        print vertex,\"    \" ,d[vertex]\n",
    "    return d   \n",
    "        "
   ]
  },
  {
   "cell_type": "code",
   "execution_count": 124,
   "metadata": {
    "collapsed": false
   },
   "outputs": [
    {
     "name": "stdout",
     "output_type": "stream",
     "text": [
      "The list of vertices and their shortest distances from the source vertex.\n",
      "Vertex Shortest Distance from source\n",
      "0      0\n",
      "1      8\n",
      "2      1\n",
      "3      5\n",
      "4      7\n",
      "5      8\n",
      "6      2\n",
      "7      11\n",
      "8      7\n",
      "9      -1\n"
     ]
    },
    {
     "data": {
      "text/plain": [
       "[0, 8, 1, 5, 7, 8, 2, 11, 7, -1]"
      ]
     },
     "execution_count": 124,
     "metadata": {},
     "output_type": "execute_result"
    }
   ],
   "source": [
    "Bellman_Ford(graph,source)"
   ]
  },
  {
   "cell_type": "markdown",
   "metadata": {},
   "source": [
    "## Problems"
   ]
  },
  {
   "cell_type": "markdown",
   "metadata": {},
   "source": [
    "### 1. (12 points) True or false:"
   ]
  },
  {
   "cell_type": "markdown",
   "metadata": {},
   "source": [
    "#### a. The class NP contains some problems that can be solved in polynomial time. False"
   ]
  },
  {
   "cell_type": "markdown",
   "metadata": {},
   "source": [
    "#### b. All of the problems in NP can be solved in worst‐case exponential time. False"
   ]
  },
  {
   "cell_type": "markdown",
   "metadata": {},
   "source": [
    "#### c. There are problems that can be reduced to the Hamiltonian circuit problem and for which we have polynomial‐time algorithms. False"
   ]
  },
  {
   "cell_type": "markdown",
   "metadata": {},
   "source": [
    "#### d. There are problems that the Hamiltonian circuit problem can be reduced to and for which we have polynomial‐time algorithms. True"
   ]
  },
  {
   "cell_type": "markdown",
   "metadata": {},
   "source": [
    "### 2. (12 points) Give an asymptotic bound for each of the following:"
   ]
  },
  {
   "cell_type": "markdown",
   "metadata": {},
   "source": [
    "#### a. T(n) = 3T(n/3) + lg(n)"
   ]
  },
  {
   "cell_type": "markdown",
   "metadata": {},
   "source": [
    "Θ(n) This answear came from 3T(n/3) > lg(n) and log base 3 with number 3 equaling 1 thus, Θ(n^1) which is Θ(n)"
   ]
  },
  {
   "cell_type": "markdown",
   "metadata": {},
   "source": [
    "#### b. T(n) = 3T(n/6) + n"
   ]
  },
  {
   "cell_type": "markdown",
   "metadata": {},
   "source": [
    "Masters Case 1 thus, Θ(n^(1.63)) ## 1.63 comes from log base 3 with number 6"
   ]
  },
  {
   "cell_type": "markdown",
   "metadata": {},
   "source": [
    "#### c. T(n) = 9T(n/4) + n"
   ]
  },
  {
   "cell_type": "markdown",
   "metadata": {},
   "source": [
    "Masters Case 3 thus, Θ(n)"
   ]
  },
  {
   "cell_type": "markdown",
   "metadata": {},
   "source": [
    "#### d. T(n) = 4T(n/2) + n^2"
   ]
  },
  {
   "cell_type": "markdown",
   "metadata": {},
   "source": [
    "Masters Case 3 thus, Θ(n^2)"
   ]
  },
  {
   "cell_type": "markdown",
   "metadata": {},
   "source": [
    "### 3. (10 points) Consider the following algorithm:"
   ]
  },
  {
   "cell_type": "code",
   "execution_count": 3,
   "metadata": {
    "collapsed": false
   },
   "outputs": [],
   "source": [
    "#Given the Pseudocode\n",
    "# Search(A, first, last, key)\n",
    "# 1 if A[first] = key\n",
    "# 2     return true\n",
    "# 3 if first >= last\n",
    "# 4     return false\n",
    "# 5 middle = (first + last)/2\n",
    "# 6 left = Search(A, first, middle, key)\n",
    "# 7 right = Search(A, middle+1, last, key)\n",
    "# 8 return (left or right)\n",
    "\n",
    "# Note that this binary search only works if the array is presorted.\n",
    "\n",
    "## In python\n",
    "COUNT = 0 ## global counter\n",
    "def Search(A,first,last,key):\n",
    "    \n",
    "    global COUNT\n",
    "    COUNT = COUNT+1\n",
    "    \n",
    "    if A[first]==key:\n",
    "        return True\n",
    "    if first >= last:\n",
    "        return False \n",
    "    middle = (first + last)/2\n",
    "    left = Search(A,first,middle,key)\n",
    "    right = Search(A,middle+1,last,key)\n",
    "    \n",
    "    if left:\n",
    "        return left\n",
    "    elif right:\n",
    "        return right\n"
   ]
  },
  {
   "cell_type": "code",
   "execution_count": 4,
   "metadata": {
    "collapsed": false
   },
   "outputs": [
    {
     "name": "stdout",
     "output_type": "stream",
     "text": [
      "1 False 1\n",
      "2 None 3\n",
      "3 None 5\n",
      "4 None 7\n",
      "5 None 9\n",
      "6 None 11\n",
      "7 None 13\n",
      "8 None 15\n",
      "9 None 17\n"
     ]
    }
   ],
   "source": [
    "#build a random array\n",
    "import random\n",
    "\n",
    "#build a directory of count\n",
    "for i in xrange(1,10):\n",
    "    A=random.sample(range(1, i*100), i)\n",
    "    A=sort(A)\n",
    "    desireKey=random.sample(range(1, i*100), 1)[0]\n",
    "    COUNT = 0\n",
    "    \n",
    "    print i, Search(A,0,len(A)-1,desireKey),COUNT"
   ]
  },
  {
   "cell_type": "markdown",
   "metadata": {},
   "source": [
    "#### a. Write down a recurrence that counts the number of times the comparison in line 1 is performed on an array of length n."
   ]
  },
  {
   "cell_type": "markdown",
   "metadata": {},
   "source": [
    "T(N) = 2T(N/2) + N - 1"
   ]
  },
  {
   "cell_type": "markdown",
   "metadata": {},
   "source": [
    "#### b. Write down the asymptotic version of the running time."
   ]
  },
  {
   "cell_type": "markdown",
   "metadata": {},
   "source": [
    "T(N) = Θ(2N)"
   ]
  },
  {
   "cell_type": "markdown",
   "metadata": {},
   "source": [
    "#### 4. (8 points) Consider the following recurrence relation, where n and k are greater than 0:"
   ]
  },
  {
   "cell_type": "code",
   "execution_count": 5,
   "metadata": {
    "collapsed": false
   },
   "outputs": [],
   "source": [
    "#         / 0 if n < k\n",
    "#b[n,k] = | n if k = 1\n",
    "#         \\ b[n‐1,k‐1] + b[n‐1,k] otherwise"
   ]
  },
  {
   "cell_type": "markdown",
   "metadata": {},
   "source": [
    "#### a. Explain briefly why a dynamic programming approach is best used here, as opposed to using a straightforward recursive algorithm. (Hint: Consider what happens when computing b[6,4].)"
   ]
  },
  {
   "cell_type": "markdown",
   "metadata": {},
   "source": [
    "As the sizes of N grows more and more of the exact same sub-problems are going to be needed to be sloved. With dynamic programming approach a table is used where less computation is needed since it only needs to slove the sub-problems once. From then on it will just look at the table with the solution to the sub-problems thus not needing to compute agian."
   ]
  },
  {
   "cell_type": "markdown",
   "metadata": {},
   "source": [
    "#### b. Because we are using a dynamic programming algorithm to compute b[n,k], there is a table for carrying out the computation. Describe the shape of the table and how its entries should be filled by the algorithm."
   ]
  },
  {
   "cell_type": "markdown",
   "metadata": {},
   "source": [
    "The shape of the table could be N by K in size with N being of size less than or equal to K. The entries will be filled from bottom up with the smallest subproblems possiable subproblem down to its base cases of 0 if n < K  OR n if k=1. Then the next possiable smallest subproblem will be entered and so on working its way up to the top of the problem."
   ]
  }
 ],
 "metadata": {
  "kernelspec": {
   "display_name": "Python 2",
   "language": "python",
   "name": "python2"
  },
  "language_info": {
   "codemirror_mode": {
    "name": "ipython",
    "version": 2
   },
   "file_extension": ".py",
   "mimetype": "text/x-python",
   "name": "python",
   "nbconvert_exporter": "python",
   "pygments_lexer": "ipython2",
   "version": "2.7.10"
  }
 },
 "nbformat": 4,
 "nbformat_minor": 0
}
